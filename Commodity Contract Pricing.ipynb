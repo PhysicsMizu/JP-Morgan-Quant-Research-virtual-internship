{
 "cells": [
  {
   "cell_type": "code",
   "execution_count": 3,
   "metadata": {},
   "outputs": [],
   "source": [
    "import numpy as np\n",
    "import pandas as pd\n",
    "import matplotlib.pyplot as plt\n",
    "import seaborn as snc\n",
    "from scipy.optimize import curve_fit\n",
    "import datetime as dt\n",
    "import calendar\n",
    "from dateutil.relativedelta import relativedelta\n",
    "from matplotlib.gridspec import GridSpec\n",
    "plt.style.use('dark_background')"
   ]
  },
  {
   "cell_type": "markdown",
   "metadata": {},
   "source": [
    "# Task 2: Storage contract pricing"
   ]
  },
  {
   "cell_type": "code",
   "execution_count": 5,
   "metadata": {},
   "outputs": [
    {
     "name": "stdout",
     "output_type": "stream",
     "text": [
      "12.9348972181626\n"
     ]
    }
   ],
   "source": [
    "# load our gas price model and parameters\n",
    "popt = pd.read_csv('gas_price_model_parameters.csv')['model_parameters'].to_list()\n",
    "data = pd.read_csv('Nat_Gas_formatted.csv')\n",
    "data['Dates'] = pd.to_datetime(data['Dates'])\n",
    "\n",
    "def PREDICT_GAS_PRICE(date):\n",
    "    date = pd.to_datetime(date)\n",
    "    def line_and_sin(x, a,b,c,d,e):\n",
    "        return a + b*x + c*np.sin(2*np.pi*(d*x) + e)\n",
    "\n",
    "    if date in data['Dates'].values: return data.loc[data['Dates'].values == date, 'Prices']\n",
    "    else:\n",
    "        months_elapsed_fromfirstdata = (date - data['Dates'].min()).days/30.4\n",
    "        return line_and_sin(months_elapsed_fromfirstdata, *popt)\n",
    "\n",
    "#let's save the optimal parameters to use for task 2 as a csv\n",
    "fit_parameters = pd.DataFrame({'model_parameters': popt})\n",
    "fit_parameters.to_csv('gas_price_model_parameters.csv')\n",
    "data.to_csv('Nat_Gas_formatted.csv')\n",
    "#let's save the optimal parameters to use for task 2 as a csv\n",
    "fit_parameters = pd.DataFrame({'model_parameters': popt})\n",
    "fit_parameters.to_csv('gas_price_model_parameters.csv')\n",
    "\n",
    "print(PREDICT_GAS_PRICE('2025/10/31'))"
   ]
  },
  {
   "cell_type": "code",
   "execution_count": 29,
   "metadata": {},
   "outputs": [
    {
     "name": "stdout",
     "output_type": "stream",
     "text": [
      "inject 1000000.0 MMBtu at USD 11.644154237094247 per MMBtu + fees\n",
      "Total injection cost:  USD 12144254.237094248\n",
      "withdraw 1000000.0 MMBtu at USD 12.985339548016944 per MMBtu + fees\n",
      "Total withdrawal earnings:   12485239.548016943\n",
      "Storage fees for 6 months:    USD 6000\n",
      "Value of leg 1 of the contract:   334985.3109226953 \n",
      "inject 3000000.0 MMBtu at USD 12.038647870344471 per MMBtu + fees\n",
      "Total injection cost:  USD 37616043.61103342\n",
      "withdraw 3000000.0 MMBtu at USD 13.314657001640436 per MMBtu + fees\n",
      "Total withdrawal earnings:   38443871.00492131\n",
      "Storage fees for 5 months:    USD 5000\n",
      "Value of leg 2 of the contract:   822827.3938878924 \n",
      "Contract Price: USD 1157812.7048105877\n"
     ]
    },
    {
     "data": {
      "text/plain": [
       "1157812.7048105877"
      ]
     },
     "execution_count": 29,
     "metadata": {},
     "output_type": "execute_result"
    }
   ],
   "source": [
    "#in this first toy, the entirety of the gas injected in one date is withdrawn on the next\n",
    "def contract_price(injection_dates, withdrawal_dates, vol, injection_cost_per_MMBtu, charge_for_movement, monthly_storage_cost, max_possible_storage = 1e07):\n",
    "    \"\"\"Toy model for gas storage contract price\n",
    "    \n",
    "    injection and extraction dates are already ordered\"\"\"\n",
    "    contract_price = np.zeros(len(injection_dates))\n",
    "\n",
    "    # date_register = {'date_in':[], 'date_out':[], 'vol_in':[], 'vol_out':[] ,'type':[], 'volume':[] }\n",
    "    for i in range(len(injection_dates)):\n",
    "\n",
    "        if vol[i] > max_possible_storage: raise Exception(\" This contract exceeds the facility's storage capacity\")\n",
    "  \n",
    "        gas_price_at_injection = PREDICT_GAS_PRICE(injection_dates[i])\n",
    "        print(f'inject {vol[i]} MMBtu at USD {gas_price_at_injection} per MMBtu + fees')\n",
    "        injection_variable_cost = vol[i]*(gas_price_at_injection + injection_cost_per_MMBtu)\n",
    "        total_injection_cost = injection_variable_cost + charge_for_movement\n",
    "        print(f'Total injection cost:  USD {total_injection_cost}')\n",
    "        contract_price[i] -= total_injection_cost\n",
    "\n",
    "        gas_price_at_withdrawal = PREDICT_GAS_PRICE(withdrawal_dates[i])\n",
    "        print(f'withdraw {vol[i]} MMBtu at USD {gas_price_at_withdrawal} per MMBtu + fees')\n",
    "        withdrawal_variable_earnings = vol[i]*(gas_price_at_withdrawal - injection_cost_per_MMBtu)\n",
    "        total_withdrawal_earnings = withdrawal_variable_earnings - charge_for_movement\n",
    "        print(f'Total withdrawal earnings:   {total_withdrawal_earnings}')\n",
    "        contract_price[i] += total_withdrawal_earnings\n",
    "\n",
    "        #we need to account for the cost of keeping the storage tanks filled\n",
    "        storage_time = (pd.to_datetime(withdrawal_dates[i]) - pd.to_datetime(injection_dates[i])).days\n",
    "        months_stored = int(np.round(storage_time /30.4))\n",
    "        storage_cost = months_stored*monthly_storage_cost\n",
    "        print(f'Storage fees for {months_stored} months:    USD {storage_cost}')\n",
    "        contract_price[i] -= storage_cost\n",
    "        print(f'Value of leg {i+1} of the contract:   {contract_price[i]} ')\n",
    "\n",
    "    contract_price = np.sum(contract_price)\n",
    "    print(f'Contract Price: USD {contract_price}')\n",
    "    \n",
    "    return contract_price\n",
    "    \n",
    "contract_price(['2024/06/12', '2025/07/12' ],['2024/12/24', '2025/11/30'], [1e06, 3e06], 0.5, 100, 1000 )\n",
    "\n",
    "\n"
   ]
  },
  {
   "cell_type": "markdown",
   "metadata": {},
   "source": [
    "This toy program is simple but useful for gas storage contracts where tanks must be fully filled/emptied at every movement. If we can inject a fraction of the tank, we'd need to changt the part of the program that deals with monthly costs for storage and the checker for whether we are below the storage limit. This should be sufficient to perform quick calculations for a client."
   ]
  },
  {
   "cell_type": "code",
   "execution_count": null,
   "metadata": {},
   "outputs": [],
   "source": []
  },
  {
   "cell_type": "code",
   "execution_count": null,
   "metadata": {},
   "outputs": [],
   "source": []
  }
 ],
 "metadata": {
  "kernelspec": {
   "display_name": "base",
   "language": "python",
   "name": "python3"
  },
  "language_info": {
   "codemirror_mode": {
    "name": "ipython",
    "version": 3
   },
   "file_extension": ".py",
   "mimetype": "text/x-python",
   "name": "python",
   "nbconvert_exporter": "python",
   "pygments_lexer": "ipython3",
   "version": "3.11.5"
  }
 },
 "nbformat": 4,
 "nbformat_minor": 2
}
