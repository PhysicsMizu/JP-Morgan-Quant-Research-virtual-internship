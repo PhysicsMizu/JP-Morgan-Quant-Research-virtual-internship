{
 "cells": [
  {
   "cell_type": "code",
   "execution_count": 1,
   "metadata": {},
   "outputs": [],
   "source": [
    "import numpy as np\n",
    "import pandas as pd\n",
    "import matplotlib.pyplot as plt\n",
    "from scipy.stats import binom\n",
    "import seaborn as snc\n",
    "import tqdm \n"
   ]
  },
  {
   "cell_type": "markdown",
   "metadata": {},
   "source": [
    "# Task 4: Bucket FICO scores"
   ]
  },
  {
   "cell_type": "markdown",
   "metadata": {},
   "source": [
    "Load data"
   ]
  },
  {
   "cell_type": "code",
   "execution_count": 2,
   "metadata": {},
   "outputs": [
    {
     "data": {
      "text/html": [
       "<div>\n",
       "<style scoped>\n",
       "    .dataframe tbody tr th:only-of-type {\n",
       "        vertical-align: middle;\n",
       "    }\n",
       "\n",
       "    .dataframe tbody tr th {\n",
       "        vertical-align: top;\n",
       "    }\n",
       "\n",
       "    .dataframe thead th {\n",
       "        text-align: right;\n",
       "    }\n",
       "</style>\n",
       "<table border=\"1\" class=\"dataframe\">\n",
       "  <thead>\n",
       "    <tr style=\"text-align: right;\">\n",
       "      <th></th>\n",
       "      <th>fico_score</th>\n",
       "      <th>default</th>\n",
       "    </tr>\n",
       "  </thead>\n",
       "  <tbody>\n",
       "    <tr>\n",
       "      <th>0</th>\n",
       "      <td>605</td>\n",
       "      <td>0</td>\n",
       "    </tr>\n",
       "    <tr>\n",
       "      <th>1</th>\n",
       "      <td>572</td>\n",
       "      <td>1</td>\n",
       "    </tr>\n",
       "    <tr>\n",
       "      <th>2</th>\n",
       "      <td>602</td>\n",
       "      <td>0</td>\n",
       "    </tr>\n",
       "    <tr>\n",
       "      <th>3</th>\n",
       "      <td>612</td>\n",
       "      <td>0</td>\n",
       "    </tr>\n",
       "    <tr>\n",
       "      <th>4</th>\n",
       "      <td>631</td>\n",
       "      <td>0</td>\n",
       "    </tr>\n",
       "  </tbody>\n",
       "</table>\n",
       "</div>"
      ],
      "text/plain": [
       "   fico_score  default\n",
       "0         605        0\n",
       "1         572        1\n",
       "2         602        0\n",
       "3         612        0\n",
       "4         631        0"
      ]
     },
     "execution_count": 2,
     "metadata": {},
     "output_type": "execute_result"
    }
   ],
   "source": [
    "data = pd.read_csv(\"Task 3 and 4_Loan_Data.csv\")\n",
    "data = data.drop(['customer_id','credit_lines_outstanding',\t'loan_amt_outstanding' ,\\\n",
    "                 \t'total_debt_outstanding',\t'income',\t'years_employed'], axis = 1)\n",
    "data.head()"
   ]
  },
  {
   "cell_type": "code",
   "execution_count": 3,
   "metadata": {},
   "outputs": [
    {
     "data": {
      "text/html": [
       "<div>\n",
       "<style scoped>\n",
       "    .dataframe tbody tr th:only-of-type {\n",
       "        vertical-align: middle;\n",
       "    }\n",
       "\n",
       "    .dataframe tbody tr th {\n",
       "        vertical-align: top;\n",
       "    }\n",
       "\n",
       "    .dataframe thead th {\n",
       "        text-align: right;\n",
       "    }\n",
       "</style>\n",
       "<table border=\"1\" class=\"dataframe\">\n",
       "  <thead>\n",
       "    <tr style=\"text-align: right;\">\n",
       "      <th></th>\n",
       "      <th>fico_score</th>\n",
       "      <th>default</th>\n",
       "      <th>bin</th>\n",
       "    </tr>\n",
       "  </thead>\n",
       "  <tbody>\n",
       "    <tr>\n",
       "      <th>0</th>\n",
       "      <td>605</td>\n",
       "      <td>0</td>\n",
       "      <td>2</td>\n",
       "    </tr>\n",
       "    <tr>\n",
       "      <th>1</th>\n",
       "      <td>572</td>\n",
       "      <td>1</td>\n",
       "      <td>1</td>\n",
       "    </tr>\n",
       "    <tr>\n",
       "      <th>2</th>\n",
       "      <td>602</td>\n",
       "      <td>0</td>\n",
       "      <td>2</td>\n",
       "    </tr>\n",
       "    <tr>\n",
       "      <th>3</th>\n",
       "      <td>612</td>\n",
       "      <td>0</td>\n",
       "      <td>2</td>\n",
       "    </tr>\n",
       "    <tr>\n",
       "      <th>4</th>\n",
       "      <td>631</td>\n",
       "      <td>0</td>\n",
       "      <td>2</td>\n",
       "    </tr>\n",
       "  </tbody>\n",
       "</table>\n",
       "</div>"
      ],
      "text/plain": [
       "   fico_score  default  bin\n",
       "0         605        0    2\n",
       "1         572        1    1\n",
       "2         602        0    2\n",
       "3         612        0    2\n",
       "4         631        0    2"
      ]
     },
     "execution_count": 3,
     "metadata": {},
     "output_type": "execute_result"
    }
   ],
   "source": [
    "# lets make a column with 5 (arbitrary number of) buckets, dividing our credit data\n",
    "data['bin'] = pd.cut(data['fico_score'], bins = 5, labels = False)\n",
    "data.head()"
   ]
  },
  {
   "cell_type": "markdown",
   "metadata": {},
   "source": [
    "### Let's make a log likelihood function. we will maximize the log likelihood to get the appropriate number of bins and their edges"
   ]
  },
  {
   "cell_type": "code",
   "execution_count": 4,
   "metadata": {},
   "outputs": [],
   "source": [
    "def log_like(data):\n",
    "    loglike = 0\n",
    "    for b in data['bin'].unique():\n",
    "        bin_data = data[data['bin'] == b]\n",
    "        if not bin_data.empty:\n",
    "            nb = len(bin_data)\n",
    "            kb = bin_data['default'].sum()\n",
    "            if nb > 0: pb = kb/nb\n",
    "            else: pb = 0\n",
    "            loglike += binom.logpmf(kb, nb, pb)\n",
    "    return loglike\n"
   ]
  },
  {
   "cell_type": "markdown",
   "metadata": {},
   "source": [
    "### Now let's find the ideal bin locations for a given dataset by maximizing log likelihood"
   ]
  },
  {
   "cell_type": "code",
   "execution_count": 5,
   "metadata": {},
   "outputs": [
    {
     "name": "stdout",
     "output_type": "stream",
     "text": [
      "Run 1 : ll = -16.890277047027887\n",
      "Run 2 : ll = -15.773875852075395\n",
      "Run 3 : ll = -15.257681076755404\n",
      "Run 4 : ll = -13.705901031118385\n",
      "Run 5 : ll = -13.215918501138557\n",
      "Run 6 : ll = -12.719149123180316\n",
      "Run 7 : ll = -12.08374235917038\n",
      "Run 8 : ll = -11.365801435310832\n",
      "Run 9 : ll = -10.4998477929406\n",
      "Run 10 : ll = -9.94578418125031\n",
      "Run 11 : ll = -9.678351160229816\n",
      "Run 12 : ll = -9.43214830144965\n",
      "Run 13 : ll = -9.235441194113577\n",
      "Run 14 : ll = -8.90407580752061\n",
      "Run 15 : ll = -8.766377757547854\n",
      "Run 16 : ll = -8.276642040679837\n",
      "Run 17 : ll = -8.266943251843932\n",
      "Run 18 : ll = -8.266943251843932\n"
     ]
    }
   ],
   "source": [
    "def optimize_bin_loc(data, nbins, max_runs = 40, verbose = True):\n",
    "    data['bin'] = pd.cut(data['fico_score'], bins = nbins, labels = False)\n",
    "    binedges = np.linspace(300, 850, nbins + 1 )\n",
    "    benchmark_loglike = log_like(data)\n",
    "    run = 0\n",
    "    binning_is_improving = True\n",
    "\n",
    "    while binning_is_improving and run < max_runs:\n",
    "        binning_is_improving = False\n",
    "        for edge_id in range(1, nbins):\n",
    "\n",
    "            #with all other bins fixed, minimize the loglike by changing the position of this one\n",
    "            for shift in [-10, 10]:\n",
    "                if binedges[edge_id] >= binedges[edge_id+1] - 10 or binedges[edge_id] <= binedges[edge_id-1] +10 : break\n",
    "                binedges[edge_id] += shift\n",
    "                data['bin'] = pd.cut(data['fico_score'], bins = binedges, labels = False)\n",
    "                shifted_loglike = log_like(data)\n",
    "                #if we improve the log likelihood, we accept the shift\n",
    "                if shifted_loglike > benchmark_loglike:\n",
    "                    binning_is_improving = True\n",
    "                    benchmark_loglike = shifted_loglike\n",
    "                else: \n",
    "                    binedges[edge_id] -= shift\n",
    "                    \n",
    "        \n",
    "        run +=1\n",
    "        if verbose == True: print(f'Run {run} : ll = {benchmark_loglike}')\n",
    "        \n",
    "    return binedges , data\n",
    "\n",
    "\n",
    "\n",
    "binedges, processed_data = optimize_bin_loc(data,7)\n",
    "\n"
   ]
  },
  {
   "cell_type": "code",
   "execution_count": 6,
   "metadata": {},
   "outputs": [
    {
     "data": {
      "image/png": "[encoded data removed]",
      "text/plain": [
       "<Figure size 640x480 with 1 Axes>"
      ]
     },
     "metadata": {},
     "output_type": "display_data"
    },
    {
     "name": "stdout",
     "output_type": "stream",
     "text": [
      "The ideal bin edges are: [300.         368.57142857 437.14285714 445.71428571 784.28571429\n",
      " 792.85714286 801.42857143 850.        ]\n"
     ]
    }
   ],
   "source": [
    "plt.hist((processed_data[processed_data['default'] ==0 ])['fico_score'], bins = binedges, log=True, alpha = 0.4)\n",
    "plt.hist((processed_data[processed_data['default'] ==1 ])['fico_score'], bins = binedges,log=True, alpha = 0.4 )\n",
    "plt.show()\n",
    "\n",
    "print(f'The ideal bin edges are: {binedges}')"
   ]
  },
  {
   "cell_type": "markdown",
   "metadata": {},
   "source": [
    "Looking at this setup, the middle bin is dominant. However, this means that most customers fall in the middle bin."
   ]
  },
  {
   "cell_type": "code",
   "execution_count": 9,
   "metadata": {},
   "outputs": [
    {
     "name": "stderr",
     "output_type": "stream",
     "text": [
      " 10%|█         | 1/10 [00:00<00:04,  1.93it/s]\n"
     ]
    }
   ],
   "source": [
    "def optimize_n_bins_and_loc(data, min_nbins, max_nbins):\n",
    "\n",
    "    _, data = optimize_bin_loc(data, min_nbins, max_runs = 40, verbose = False)\n",
    "    benchmark_loglike = log_like(data)\n",
    "\n",
    "    # increase the number of bins until the log lokeligood stops going up\n",
    "    for nbins in tqdm.tqdm(range(min_nbins +1 , max_nbins +1)):\n",
    "        _, data = optimize_bin_loc(data, nbins, max_runs = 40, verbose = False)\n",
    "        loglike = log_like(data)\n",
    "        if loglike > benchmark_loglike: \n",
    "            benchmark_loglike = log_like(data)\n",
    "        else: return optimize_bin_loc(data, nbins-1, max_runs = 40, verbose = False)\n",
    "            \n",
    "\n",
    "final_bins , final_data =  optimize_n_bins_and_loc(data, 5, 15)\n",
    "        \n",
    "        \n",
    "\n",
    "    "
   ]
  },
  {
   "cell_type": "code",
   "execution_count": 10,
   "metadata": {},
   "outputs": [
    {
     "name": "stdout",
     "output_type": "stream",
     "text": [
      "final_bins: [300.         381.66666667 413.33333333 435.         796.66666667\n",
      " 808.33333333 850.        ]\n"
     ]
    },
    {
     "data": {
      "image/png": "[encoded data removed]",
      "text/plain": [
       "<Figure size 640x480 with 1 Axes>"
      ]
     },
     "metadata": {},
     "output_type": "display_data"
    }
   ],
   "source": [
    "print(f'final_bins: {final_bins}')\n",
    "\n",
    "plt.hist((final_data[final_data['default'] ==0 ])['fico_score'], bins = final_bins, log=True, alpha = 0.4)\n",
    "plt.hist((final_data[final_data['default'] ==1 ])['fico_score'], bins = final_bins,log=True, alpha = 0.4 )\n",
    "plt.show()"
   ]
  },
  {
   "cell_type": "markdown",
   "metadata": {},
   "source": [
    "The same thing happens when we allow the number of bins to vary."
   ]
  },
  {
   "cell_type": "code",
   "execution_count": null,
   "metadata": {},
   "outputs": [],
   "source": []
  }
 ],
 "metadata": {
  "kernelspec": {
   "display_name": "base",
   "language": "python",
   "name": "python3"
  },
  "language_info": {
   "codemirror_mode": {
    "name": "ipython",
    "version": 3
   },
   "file_extension": ".py",
   "mimetype": "text/x-python",
   "name": "python",
   "nbconvert_exporter": "python",
   "pygments_lexer": "ipython3",
   "version": "3.11.5"
  }
 },
 "nbformat": 4,
 "nbformat_minor": 2
}
